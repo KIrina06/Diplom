{
 "cells": [
  {
   "cell_type": "markdown",
   "metadata": {
    "id": "CPA75fQXoyxq"
   },
   "source": [
    "Пример \"ветреный мир в клеточку\"\n",
    "\n",
    "Тестовый пример (среда) Windy Gridworld работает на пространстве, разделенном на ячейки (сетке), в котором действует внешняя сила, сдвигающая агента из некоторых ячеек. Задача агента найти путь от стартовой ячейки до целевой.\n",
    "\n",
    "Например, в этом примере рассматривается движение агента на сетке 7 х 10. Таким образом, пространство имеет 70 состояний. В каждой ячейке возможны 4 действия, т.е. множество пар (s, a) \"состояние-действие\" равно 280.\n",
    "\n",
    "Применим TD-метод для поиска оптимальной стратегии в этой среде."
   ]
  },
  {
   "cell_type": "code",
   "execution_count": 1,
   "metadata": {
    "id": "ZlxOrJ5kovv_"
   },
   "outputs": [],
   "source": [
    "import numpy as np\n",
    "import random\n",
    "import matplotlib\n",
    "import matplotlib.pyplot as plt"
   ]
  },
  {
   "cell_type": "markdown",
   "metadata": {
    "id": "AEhK2x_0D55v"
   },
   "source": [
    "Агент может двигаться вверх, вправо, вниз, влево. Сложность этой среды в том, что в столбцах с 4 по 9 дует ветер. Если агент оказывается в любой ячейке из этих столбцов, то его будет сдувать вверх. Сила ветра в столбцах может быть 0 или 1 или 2. Ветер детерминирован.\n",
    "\n",
    "Вознаграждение за каждое действие всегда равно –1, кроме попадания в цель. Поэтому требуется добраться до цели как можно раньше."
   ]
  },
  {
   "cell_type": "code",
   "execution_count": 2,
   "metadata": {
    "id": "yYLJbTwJ5j6a"
   },
   "outputs": [],
   "source": [
    "# размеры клетчатого мира\n",
    "WORLD_HEIGHT = 7\n",
    "WORLD_WIDTH = 10\n",
    "\n",
    "# сила ветра для колонок\n",
    "WIND = [0, 0, 0, 1, 1, 1, 2, 2, 1, 0]\n",
    "\n",
    "# возможные действия\n",
    "ACTION_UP = 0\n",
    "ACTION_DOWN = 1\n",
    "ACTION_LEFT = 2\n",
    "ACTION_RIGHT = 3\n",
    "# список действий\n",
    "ACTIONS4 = [ACTION_UP, ACTION_DOWN, ACTION_LEFT, ACTION_RIGHT]\n",
    "\n",
    "# вероятность для e-greedy\n",
    "EPSILON = 0.1\n",
    "# параметр неопределенности\n",
    "ALPHA = 0.7\n",
    "# макс повторов\n",
    "episode_limit = 300\n",
    "# награда за каждый шаг step\n",
    "REWARD = -1.0\n",
    "total_reward_episode = [0] * episode_limit\n",
    "# начальная точка\n",
    "START = [2, 0]\n",
    "# точка цели\n",
    "GOAL = [5, 8]\n",
    "\n",
    "# возвращаем новое состояние s\n",
    "def step4(state, action):\n",
    "    i, j = state\n",
    "    if action == ACTION_UP:\n",
    "        return [max(i - 1 - WIND[j], 0), j]\n",
    "    elif action == ACTION_DOWN:\n",
    "        return [max(min(i + 1 - WIND[j], WORLD_HEIGHT - 1), 0), j]\n",
    "    elif action == ACTION_LEFT:\n",
    "        return [max(i - WIND[j], 0), max(j - 1, 0)]\n",
    "    elif action == ACTION_RIGHT:\n",
    "        return [max(i - WIND[j], 0), min(j + 1, WORLD_WIDTH - 1)]\n",
    "    else:\n",
    "        assert False\n"
   ]
  },
  {
   "cell_type": "markdown",
   "metadata": {
    "id": "2BHe96f7n9qa"
   },
   "source": [
    "Q-функция - функция ценности действий.\n",
    "В методе Монте-Карло с ε-жадной стратегией мы не всегда выбираем наилучшее из известных действий, а иногда выбираем случайное действие."
   ]
  },
  {
   "cell_type": "code",
   "execution_count": 3,
   "metadata": {
    "id": "jYuYQB7SFN3B"
   },
   "outputs": [],
   "source": [
    "# выполним эпизод модели\n",
    "def episode4(q_value, epc=0):\n",
    "    # счетчик времени в эпизоде\n",
    "    time = 0\n",
    "    # начальное состояние\n",
    "    state = START\n",
    "\n",
    "    # выберем действие по epsilon-greedy алгоритму\n",
    "    if np.random.binomial(1, EPSILON) == 1:\n",
    "        action = np.random.choice(ACTIONS4)\n",
    "    else:\n",
    "        values_ = q_value[state[0], state[1], :]\n",
    "        action = np.random.choice(\n",
    "            [action_ for action_, value_ in enumerate(values_) if value_ == np.max(values_)])\n",
    "\n",
    "    # продолжаем выбирать действия до достижения цели\n",
    "    while state != GOAL:\n",
    "        next_state = step4(state, action)\n",
    "        if np.random.binomial(1, EPSILON) == 1:\n",
    "            next_action = np.random.choice(ACTIONS4)\n",
    "        else:\n",
    "            values_ = q_value[next_state[0], next_state[1], :]\n",
    "            next_action = np.random.choice(\n",
    "                [action_ for action_, value_ in enumerate(values_) if value_ == np.max(values_)])\n",
    "\n",
    "        # пересчет ценности по SARSA\n",
    "        q_value[state[0], state[1], action] += \\\n",
    "            ALPHA * (REWARD\n",
    "                     + q_value[next_state[0], next_state[1], next_action]\n",
    "                     - q_value[state[0], state[1], action])\n",
    "        state = next_state\n",
    "        action = next_action\n",
    "\n",
    "        total_reward_episode[epc] += REWARD\n",
    "        time += 1\n",
    "    return time"
   ]
  },
  {
   "cell_type": "markdown",
   "metadata": {
    "id": "4C9-3us4w4Pg"
   },
   "source": [
    "Оптимизация стратегии достигается путем чередования этапов оценивания и улучшения в каждом эпизоде.\n",
    "Итерационно выполняем эпизод и выбираем действия, диктуемые Q-функцией:\n",
    "- инициализируем эпизод;\n",
    "- предпринимаем случайное действие в качестве исследовательского старта;\n",
    "- последующие действия выбираем на основе текущей Q-функции, т.е.  a’ = argmax Q(s, a);\n",
    "- запоминаем состояния, действия и вознаграждения эпизода для использования на этапе оценивания.\n",
    "\n",
    "Главное достоинство TD-обучения состоит в том, что Q-функция обновляется на каждом шаге эпизода."
   ]
  },
  {
   "cell_type": "code",
   "execution_count": 4,
   "metadata": {
    "id": "U7E-tGRe6IYv"
   },
   "outputs": [],
   "source": [
    "def run_4_show():\n",
    "    q_value = np.zeros((WORLD_HEIGHT, WORLD_WIDTH, len(ACTIONS4)))\n",
    "    #episode_limit = 500\n",
    "    steps = []\n",
    "    ep = 0\n",
    "    # цикл расчета эпизодов модели\n",
    "    while ep < episode_limit:\n",
    "        steps.append(episode4(q_value, ep))\n",
    "        ep += 1\n",
    "\n",
    "    # отобразим оптимальную политику\n",
    "    optimal_policy = []\n",
    "    for i in range(0, WORLD_HEIGHT):\n",
    "        optimal_policy.append([])\n",
    "        for j in range(0, WORLD_WIDTH):\n",
    "            if [i, j] == GOAL:\n",
    "                # на схеме выделим целевую ячейку +!\n",
    "                optimal_policy[-1].append('+!')\n",
    "                continue\n",
    "            bestAction = np.argmax(q_value[i, j, :])\n",
    "            if bestAction == ACTION_UP:\n",
    "                optimal_policy[-1].append('В')\n",
    "            elif bestAction == ACTION_DOWN:\n",
    "                optimal_policy[-1].append('Н')\n",
    "            elif bestAction == ACTION_LEFT:\n",
    "                optimal_policy[-1].append('Л')\n",
    "            elif bestAction == ACTION_RIGHT:\n",
    "                optimal_policy[-1].append('П')\n",
    "            # на схеме в таблице выделим стартовую ячейку !\n",
    "            optimal_policy[-1][j] += '!' if ([i, j] == START) else ' '\n",
    "    #\n",
    "    print('Оптимальная стратегия:')\n",
    "    for row in optimal_policy:\n",
    "        print(row)\n",
    "    print('\\n^Сила^ветра^в^каждой^колонке^\\n{}'.format(['^'+str(w) for w in WIND]))\n",
    "\n",
    "    # рассчитаем кол-во эпизодов с вознаграждением меньше среднего\n",
    "    avg_reward=sum(total_reward_episode) / episode_limit\n",
    "    filtered = filter(lambda element: element < avg_reward, total_reward_episode)\n",
    "    print(f'вознаграждений меньших среднего={round(avg_reward,3)} :: {(len(list(filtered)))}')\n",
    "\n",
    "    plt.plot(np.arange(1, len(steps) + 1),steps)\n",
    "    plt.plot(total_reward_episode)\n",
    "    plt.title('длительность эпизода / вознаграждение')\n",
    "    plt.xlabel('Эпизоды')\n",
    "    plt.ylabel('Полное вознаграждение / Время')\n",
    "    plt.show()"
   ]
  },
  {
   "cell_type": "markdown",
   "metadata": {
    "id": "FSLw0VP_woqD"
   },
   "source": [
    "Запустим модель,  выведем полученную политику, оценки, графики.\n"
   ]
  },
  {
   "cell_type": "code",
   "execution_count": 5,
   "metadata": {
    "colab": {
     "base_uri": "https://localhost:8080/",
     "height": 680
    },
    "id": "giDTXMWB6kDe",
    "outputId": "0402dbd6-188b-4f85-de4f-8a6590d3c8cd"
   },
   "outputs": [
    {
     "name": "stdout",
     "output_type": "stream",
     "text": [
      "Оптимальная стратегия:\n",
      "['П ', 'П ', 'П ', 'П ', 'П ', 'П ', 'П ', 'П ', 'П ', 'Н ']\n",
      "['П ', 'П ', 'П ', 'П ', 'П ', 'П ', 'П ', 'Н ', 'В ', 'Н ']\n",
      "['Н!', 'П ', 'В ', 'Л ', 'Л ', 'Н ', 'Л ', 'П ', 'П ', 'Н ']\n",
      "['Н ', 'Л ', 'П ', 'П ', 'П ', 'П ', 'П ', 'Н ', 'Л ', 'Н ']\n",
      "['Н ', 'П ', 'П ', 'П ', 'П ', 'П ', 'В ', 'В ', 'П ', 'Н ']\n",
      "['П ', 'Н ', 'П ', 'П ', 'П ', 'В ', 'В ', 'В ', '+!', 'Л ']\n",
      "['П ', 'П ', 'П ', 'Л ', 'В ', 'В ', 'В ', 'В ', 'Н ', 'В ']\n",
      "\n",
      "^Сила^ветра^в^каждой^колонке^\n",
      "['^0', '^0', '^0', '^1', '^1', '^1', '^2', '^2', '^1', '^0']\n",
      "вознаграждений меньших среднего=-33.373 :: 56\n"
     ]
    },
    {
     "data": {
      "image/png": "[encoded data removed]",
      "text/plain": [
       "<Figure size 640x480 with 1 Axes>"
      ]
     },
     "metadata": {},
     "output_type": "display_data"
    }
   ],
   "source": [
    "run_4_show()"
   ]
  },
  {
   "cell_type": "code",
   "execution_count": 11,
   "metadata": {},
   "outputs": [
    {
     "name": "stdout",
     "output_type": "stream",
     "text": [
      "*alpha: 0.5, epsilon: 0.1\n",
      "Среднее вознаграждение в 300 эпизодах: -33.86333333333334\n",
      "Средняя длина 300 эпизодов: 33.86333333333334\n",
      "*alpha: 0.5, epsilon: 0.05\n",
      "Среднее вознаграждение в 300 эпизодах: -34.413333333333334\n",
      "Средняя длина 300 эпизодов: 34.413333333333334\n",
      "*alpha: 0.5, epsilon: 0.01\n",
      "Среднее вознаграждение в 300 эпизодах: -33.47666666666667\n",
      "Средняя длина 300 эпизодов: 33.47666666666667\n",
      "*alpha: 0.6, epsilon: 0.1\n",
      "Среднее вознаграждение в 300 эпизодах: -35.25\n",
      "Средняя длина 300 эпизодов: 35.25\n",
      "*alpha: 0.6, epsilon: 0.05\n",
      "Среднее вознаграждение в 300 эпизодах: -32.46333333333333\n",
      "Средняя длина 300 эпизодов: 32.46333333333333\n",
      "*alpha: 0.6, epsilon: 0.01\n",
      "Среднее вознаграждение в 300 эпизодах: -33.54666666666667\n",
      "Средняя длина 300 эпизодов: 33.54666666666667\n",
      "*alpha: 0.7, epsilon: 0.1\n",
      "Среднее вознаграждение в 300 эпизодах: -34.11\n",
      "Средняя длина 300 эпизодов: 34.11\n",
      "*alpha: 0.7, epsilon: 0.05\n",
      "Среднее вознаграждение в 300 эпизодах: -32.973333333333336\n",
      "Средняя длина 300 эпизодов: 32.973333333333336\n",
      "*alpha: 0.7, epsilon: 0.01\n",
      "Среднее вознаграждение в 300 эпизодах: -33.126666666666665\n",
      "Средняя длина 300 эпизодов: 33.126666666666665\n",
      "*alpha: 0.8, epsilon: 0.1\n",
      "Среднее вознаграждение в 300 эпизодах: -33.78333333333333\n",
      "Средняя длина 300 эпизодов: 33.78333333333333\n",
      "*alpha: 0.8, epsilon: 0.05\n",
      "Среднее вознаграждение в 300 эпизодах: -33.32333333333333\n",
      "Средняя длина 300 эпизодов: 33.32333333333333\n",
      "*alpha: 0.8, epsilon: 0.01\n",
      "Среднее вознаграждение в 300 эпизодах: -33.57666666666667\n",
      "Средняя длина 300 эпизодов: 33.57666666666667\n",
      "*alpha: 0.9, epsilon: 0.1\n",
      "Среднее вознаграждение в 300 эпизодах: -33.32\n",
      "Средняя длина 300 эпизодов: 33.32\n",
      "*alpha: 0.9, epsilon: 0.05\n",
      "Среднее вознаграждение в 300 эпизодах: -34.17\n",
      "Средняя длина 300 эпизодов: 34.17\n",
      "*alpha: 0.9, epsilon: 0.01\n",
      "Среднее вознаграждение в 300 эпизодах: -34.156666666666666\n",
      "Средняя длина 300 эпизодов: 34.156666666666666\n",
      "\n",
      "Лучшие результаты: ([0.6, 0.05, -32.46333333333333, 32.46333333333333, -15.0, -472.0, [-17.0]], [0.7, 0.05, -32.973333333333336, 32.973333333333336, -15.0, -971.0, [-17.0, -16.0]], [0.7, 0.01, -33.126666666666665, 33.126666666666665, -15.0, -1045.0, [-17.0, -19.0]])\n",
      "Худший результат: [0.6, 0.1, -35.25, 35.25, -15.0, -857.0, [-17.0]]\n"
     ]
    }
   ],
   "source": [
    "from collections import Counter\n",
    "ACTIONS = [ACTION_UP, ACTION_DOWN, ACTION_LEFT, ACTION_RIGHT]\n",
    "# функция расчета моды с помощью метода Counter.most_common\n",
    "def my_mode(sample):\n",
    "    u = Counter(sample)\n",
    "    return [k for k, v in u.items() if v == u.most_common(1)[0][1]]\n",
    "\n",
    "# список значений для исследования\n",
    "alpha_options = [0.5,0.6,0.7,0.8,0.9]\n",
    "epsilon_options = [0.1, 0.05, 0.01]\n",
    "result_ = []\n",
    "\n",
    "def windgridSARSA (alfa=ALPHA, eps=EPSILON):\n",
    "    q_value = np.zeros((WORLD_HEIGHT, WORLD_WIDTH, len(ACTIONS)))\n",
    "    steps = []\n",
    "    ep = 0\n",
    "    #\n",
    "    while ep < episode_limit:\n",
    "        steps.append(episode4(q_value, ep))\n",
    "        ep += 1\n",
    "    return steps\n",
    "\n",
    "for alpha in alpha_options:\n",
    "  for epsilon in epsilon_options:\n",
    "    len_episode = []  # * episode_limit\n",
    "    total_reward_episode = [0] * episode_limit\n",
    "\n",
    "    # вызов расчета итогов эпизода\n",
    "    len_episode = windgridSARSA(alpha, epsilon)\n",
    "\n",
    "    # расчет средних, макс., мин. характеристик\n",
    "    avg_rewrd =sum(total_reward_episode) / episode_limit\n",
    "    avg_steps = sum(len_episode) / episode_limit\n",
    "    max_rewrd = max(total_reward_episode)\n",
    "    min_rewrd = min(total_reward_episode)\n",
    "    mode_rewrd= my_mode(total_reward_episode)\n",
    "    result_.append([alpha, epsilon, avg_rewrd, avg_steps, max_rewrd, min_rewrd, mode_rewrd])\n",
    "\n",
    "    print('*',end='')\n",
    "    print(f'alpha: {alpha}, epsilon: {epsilon}')\n",
    "    print(f'Среднее вознаграждение в {episode_limit} эпизодах: {avg_rewrd}')\n",
    "    print(f'Средняя длина {episode_limit} эпизодов: {avg_steps}')\n",
    "\n",
    "# сортируем итоги по сред.вознаграждению по убыванию\n",
    "result_.sort(key=(lambda lst: lst[2]), reverse=True)\n",
    "print(f'\\nЛучшие результаты: {result_[0], result_[1], result_[2]}\\nХудший результат: {result_[-1]}')"
   ]
  },
  {
   "cell_type": "markdown",
   "metadata": {
    "id": "jXhpgFpJvnf4"
   },
   "source": [
    "Модифицируем среду. Возьмем размерность 9х10.\n",
    "\n",
    "Агент может двигаться вверх, вправо, вниз, влево и по диагоналям и стоять. Сложность этой среды в том, что в столбцах с 4 по 9 может дуть ветер. Если агент оказывается в любой ячейке из этих столбцов, то его будет сдувать вверх (знак +)/вниз (знак -). Сила ветра в одних столбцах может быть 0 или 1, а в других столбцах может быть 0 или 1 или 2. Ветер на каждом шаге случаен.\n",
    "\n",
    "Вознаграждение за каждое действие всегда равно –1, кроме попадания в цель. Поэтому требуется добраться до цели как можно раньше."
   ]
  },
  {
   "cell_type": "code",
   "execution_count": 12,
   "metadata": {
    "id": "Nq03kW76vrpl"
   },
   "outputs": [],
   "source": [
    "# размеры клетчатого мира\n",
    "WORLD_HEIGHT = 9\n",
    "WORLD_WIDTH = 10\n",
    "\n",
    "# сила ветра для колонок\n",
    "WIND = [0, 0, 0, 1, -1, 2, -2, -1, 1, 0]\n",
    "\n",
    "# вероятность случайного выбора при обучении\n",
    "EPSILON = 0.05\n",
    "\n",
    "# параметр для Sarsa\n",
    "ALPHA = 0.5\n",
    "\n",
    "# макс повторов\n",
    "episode_limit = 500\n",
    "\n",
    "# награда за каждый шаг step\n",
    "REWARD = -1.0\n",
    "total_reward_episode = [0] * episode_limit\n",
    "\n",
    "# начальная точка\n",
    "START = [2, 0]\n",
    "# точка цели\n",
    "GOAL = [7, 7]\n",
    "\n",
    "# возможные действия\n",
    "ACTION_UP = 0\n",
    "ACTION_DOWN = 1\n",
    "ACTION_LEFT = 2\n",
    "ACTION_RIGHT = 3\n",
    "ACTION_LEFT_UP = 4\n",
    "ACTION_LEFT_DOWN = 5\n",
    "ACTION_RIGHT_UP = 6\n",
    "ACTION_RIGHT_DOWN = 7\n",
    "ACTION_STOP = 8\n",
    "# список действий\n",
    "ACTIONS = [ACTION_UP, ACTION_DOWN, ACTION_LEFT, ACTION_RIGHT, ACTION_LEFT_UP,\n",
    "           ACTION_LEFT_DOWN, ACTION_RIGHT_UP, ACTION_RIGHT_DOWN, ACTION_STOP]\n",
    "\n",
    "log_wind = [0] * 5 # список регистрации ветра\n",
    "\n",
    "# возвращаем новое состояние s\n",
    "def step9(state, action):\n",
    "    i, j = state\n",
    "    if WIND[j] > 0:\n",
    "       windjr = random.randint(0, WIND[j])\n",
    "    elif WIND[j] < 0:\n",
    "       windjr = random.randint(WIND[j], 0)\n",
    "    else:\n",
    "       windjr = 0\n",
    "    log_wind[2+windjr] +=1  # запомним в список регистрации ветра\n",
    "\n",
    "    def in_boundary(x, y):\n",
    "        return [max(min(x, WORLD_HEIGHT - 1), 0), max(min(y, WORLD_WIDTH - 1), 0)]\n",
    "\n",
    "    if action == ACTION_UP:\n",
    "        return in_boundary(i - 1 - windjr, j)\n",
    "    elif action == ACTION_DOWN:\n",
    "        return in_boundary(i + 1 - windjr, j)\n",
    "    elif action == ACTION_LEFT:\n",
    "        return in_boundary(i - windjr, j - 1)\n",
    "    elif action == ACTION_RIGHT:\n",
    "        return in_boundary(i - windjr, j + 1)\n",
    "    elif action == ACTION_LEFT_UP:\n",
    "        return in_boundary(i - 1 - windjr, j - 1)\n",
    "    elif action == ACTION_LEFT_DOWN:\n",
    "        return in_boundary(i + 1 - windjr, j - 1)\n",
    "    elif action == ACTION_RIGHT_UP:\n",
    "        return in_boundary(i - 1 - windjr, j + 1)\n",
    "    elif action == ACTION_RIGHT_DOWN:\n",
    "        return in_boundary(i + 1 - windjr, j + 1)\n",
    "    elif action == ACTION_STOP:\n",
    "        return in_boundary(i - windjr, j)\n",
    "    else:\n",
    "        assert False"
   ]
  },
  {
   "cell_type": "markdown",
   "metadata": {
    "id": "jLJFZdFx0fv4"
   },
   "source": [
    "Q-функция - функция ценности действия.\n",
    "В управлении по Монте-Карло (MDP) с epsilon-жадной стратегией мы не всегда выбираем наилучшее из известных действий, а иногда выбираем случайное действие."
   ]
  },
  {
   "cell_type": "code",
   "execution_count": 13,
   "metadata": {
    "id": "n7vAJbQH0ihp"
   },
   "outputs": [],
   "source": [
    "# выполним эпизод модели с расчетом по SARSA\n",
    "def episode9(q_value, epc=0, alfa=ALPHA, eps=EPSILON):\n",
    "    # счетчик времени(шагов) в эпизоде\n",
    "    time = 0\n",
    "    # начальное состояние\n",
    "    state = START\n",
    "\n",
    "    # выберем действие по epsilon-greedy алгоритму\n",
    "    if np.random.binomial(1, eps) == 1:\n",
    "        action = np.random.choice(ACTIONS)\n",
    "    else:\n",
    "        values_ = q_value[state[0], state[1], :]\n",
    "        action = np.random.choice(\n",
    "            [action_ for action_, value_ in enumerate(values_) if value_ == np.max(values_)])\n",
    "\n",
    "    # продолжаем действия до достижения цели\n",
    "    while state != GOAL:\n",
    "        next_state = step9(state, action)\n",
    "        if np.random.binomial(1, eps) == 1:\n",
    "            next_action = np.random.choice(ACTIONS)\n",
    "        else:\n",
    "            values_ = q_value[next_state[0], next_state[1], :]\n",
    "            next_action = np.random.choice(\n",
    "                [action_ for action_, value_ in enumerate(values_) if value_ == np.max(values_)])\n",
    "\n",
    "        # В Sarsa пересчет Q-значения по текущему и следующему состоянию\n",
    "        q_value[state[0], state[1], action] += \\\n",
    "            (REWARD\n",
    "             + q_value[next_state[0], next_state[1], next_action]\n",
    "             - q_value[state[0], state[1], action]) * alfa\n",
    "        state = next_state\n",
    "        action = next_action\n",
    "\n",
    "        total_reward_episode[epc] +=REWARD\n",
    "        time += 1\n",
    "    return time"
   ]
  },
  {
   "cell_type": "markdown",
   "metadata": {
    "id": "ZTr5PFbW03zV"
   },
   "source": [
    "Зададим количество эпизодов и инициализируем два списка для хранения длин эпизодов и полученных в них вознаграждений.\n",
    "Определим функцию, реализующую алгоритм SARSA. Зададим коэффициент дисконтирования 1, скорость обучения ALPHA=0.5 и EPSILON = 0.05.\n",
    "Выполним алгоритм SARSA с такими параметрами и отобразим оптимальную стратегию.\n"
   ]
  },
  {
   "cell_type": "code",
   "execution_count": 14,
   "metadata": {
    "id": "Et6rclgw07IU"
   },
   "outputs": [],
   "source": [
    "def run_9_show(alfa=ALPHA, eps=EPSILON):\n",
    "    global log_wind\n",
    "    q_value = np.zeros((WORLD_HEIGHT, WORLD_WIDTH, len(ACTIONS)))\n",
    "    #episode_limit = 500\n",
    "    steps = []\n",
    "    log_wind = [0] * 5\n",
    "    ep = 0\n",
    "    #\n",
    "    while ep < episode_limit:\n",
    "        steps.append(episode9(q_value, ep, alfa, eps))\n",
    "        ep += 1\n",
    "\n",
    "    # отобразим оптимальную политику\n",
    "    optimal_policy = []\n",
    "    for i in range(0, WORLD_HEIGHT):\n",
    "        optimal_policy.append([])\n",
    "        for j in range(0, WORLD_WIDTH):\n",
    "            if [i, j] == GOAL:\n",
    "                optimal_policy[-1].append('+!')\n",
    "                continue\n",
    "            bestAction = np.argmax(q_value[i, j, :])\n",
    "            if bestAction == ACTION_UP:\n",
    "                optimal_policy[-1].append('в ')\n",
    "            elif bestAction == ACTION_DOWN:\n",
    "                optimal_policy[-1].append('н ')\n",
    "            elif bestAction == ACTION_LEFT:\n",
    "                optimal_policy[-1].append('л ')\n",
    "            elif bestAction == ACTION_RIGHT:\n",
    "                optimal_policy[-1].append('п ')\n",
    "            elif bestAction == ACTION_LEFT_UP:\n",
    "                optimal_policy[-1].append('лв')\n",
    "            elif bestAction == ACTION_LEFT_DOWN:\n",
    "                optimal_policy[-1].append('лн')\n",
    "            elif bestAction == ACTION_RIGHT_UP:\n",
    "                optimal_policy[-1].append('пв')\n",
    "            elif bestAction == ACTION_RIGHT_DOWN:\n",
    "                optimal_policy[-1].append('пн')\n",
    "            elif bestAction == ACTION_STOP:\n",
    "                optimal_policy[-1].append('cт')\n",
    "            # на схеме в таблице выделим стартовую ячейку ЗАГЛАВНЫМИ\n",
    "            if [i, j] == START : optimal_policy[-1][j] = optimal_policy[-1][j].upper()\n",
    "    #\n",
    "    print('Оптимальная стратегия:')\n",
    "    for row in optimal_policy:\n",
    "        print(row)\n",
    "    print('\\n^Макс.сила^ветра^в^каждой^колонке^\\n{}'.format([(str(w)) if (w<0) else ('^'+str(w)) for w in WIND]))\n",
    "    wl = zip([-2,-1,0,1,2],log_wind)\n",
    "    #print(f'\\n -2  -1   0   1   2  _такие были ветра_\\n{log_wind}')\n",
    "    print(f'такие были ветра : {list(wl)}')  #.format(w for w in wl))\n",
    "\n",
    "    # рассчитаем кол-во эпизодов с вознаграждением меньше среднего\n",
    "    avg_reward=sum(total_reward_episode) / episode_limit\n",
    "    filtered = filter(lambda element: element < avg_reward, total_reward_episode)\n",
    "    print(f'вознаграждений меньших среднего={round(avg_reward,3)} :: {(len(list(filtered)))}')\n",
    "\n",
    "    plt.plot(np.arange(1, len(steps) + 1),steps)\n",
    "    plt.plot(total_reward_episode)\n",
    "    plt.title('длительность эпизода /вознаграждение')\n",
    "    plt.xlabel('Эпизоды')\n",
    "    plt.ylabel('Полное вознаграждение / Время')\n",
    "    plt.show()"
   ]
  },
  {
   "cell_type": "markdown",
   "metadata": {
    "id": "tWfdTfM91PUX"
   },
   "source": [
    "Запустим модель,  выведем полученную политику, статистику ветра, графики.\n"
   ]
  },
  {
   "cell_type": "code",
   "execution_count": 15,
   "metadata": {
    "colab": {
     "base_uri": "https://localhost:8080/",
     "height": 732
    },
    "id": "iT60nLiZ1R1B",
    "outputId": "6ddb36b3-f9fa-4251-e593-7ec7c7cfd063"
   },
   "outputs": [
    {
     "name": "stdout",
     "output_type": "stream",
     "text": [
      "Оптимальная стратегия:\n",
      "['н ', 'пв', 'пн', 'п ', 'пн', 'в ', 'н ', 'лв', 'в ', 'лв']\n",
      "['в ', 'cт', 'пн', 'cт', 'п ', 'лв', 'в ', 'н ', 'в ', 'в ']\n",
      "['П ', 'п ', 'п ', 'пн', 'п ', 'н ', 'лн', 'в ', 'cт', 'в ']\n",
      "['лн', 'пн', 'пв', 'cт', 'пн', 'п ', 'н ', 'в ', 'н ', 'лн']\n",
      "['пн', 'пн', 'п ', 'пн', 'п ', 'пн', 'пн', 'cт', 'пв', 'н ']\n",
      "['н ', 'пн', 'п ', 'пн', 'пн', 'пн', 'пн', 'пн', 'пн', 'пн']\n",
      "['пн', 'пн', 'пн', 'п ', 'пн', 'п ', 'л ', 'пн', 'в ', 'н ']\n",
      "['н ', 'в ', 'л ', 'пн', 'лв', 'пв', 'п ', '+!', 'лн', 'п ']\n",
      "['п ', 'в ', 'п ', 'пв', 'п ', 'п ', 'п ', 'пв', 'пв', 'н ']\n",
      "\n",
      "^Макс.сила^ветра^в^каждой^колонке^\n",
      "['^0', '^0', '^0', '^1', '-1', '^2', '-2', '-1', '^1', '^0']\n",
      "такие были ветра : [(-2, 580), (-1, 2135), (0, 10564), (1, 1816), (2, 473)]\n",
      "вознаграждений меньших среднего=-31.136 :: 127\n"
     ]
    },
    {
     "data": {
      "image/png": "[encoded data removed]",
      "text/plain": [
       "<Figure size 640x480 with 1 Axes>"
      ]
     },
     "metadata": {},
     "output_type": "display_data"
    }
   ],
   "source": [
    "run_9_show()"
   ]
  },
  {
   "cell_type": "markdown",
   "metadata": {
    "id": "DVEgmHVh1ZBX"
   },
   "source": [
    "Сделаем функцию поиска наилучшего набора гиперпараметров для обучения. Качество набора измеряется по следующим показателям:\n",
    "- среднее полное вознаграждение в нескольких эпизодах: мы хотим, чтобы вознаграждение стало большим как можно быстрее;\n",
    "- средняя длина нескольких эпизодов: мы хотим, чтобы результат достигался как можно быстрее;\n",
    "- скорость сходимости, которую оценим по количеству вознаграждений ниже среднего.\n"
   ]
  },
  {
   "cell_type": "code",
   "execution_count": 17,
   "metadata": {
    "colab": {
     "base_uri": "https://localhost:8080/"
    },
    "id": "5ipkIPh91bH5",
    "outputId": "04f748cb-f0bb-4d06-d57a-cf25b88e72d3",
    "scrolled": true
   },
   "outputs": [
    {
     "name": "stdout",
     "output_type": "stream",
     "text": [
      "*alpha: 0.5, epsilon: 0.1\n",
      "Среднее вознаграждение в 500 эпизодах: -33.674\n",
      "Средняя длина 500 эпизодов: 33.674\n",
      "*alpha: 0.5, epsilon: 0.05\n",
      "Среднее вознаграждение в 500 эпизодах: -29.782\n",
      "Средняя длина 500 эпизодов: 29.782\n",
      "*alpha: 0.5, epsilon: 0.01\n",
      "Среднее вознаграждение в 500 эпизодах: -29.412\n",
      "Средняя длина 500 эпизодов: 29.412\n",
      "*alpha: 0.6, epsilon: 0.1\n",
      "Среднее вознаграждение в 500 эпизодах: -27.966\n",
      "Средняя длина 500 эпизодов: 27.966\n",
      "*alpha: 0.6, epsilon: 0.05\n",
      "Среднее вознаграждение в 500 эпизодах: -28.682\n",
      "Средняя длина 500 эпизодов: 28.682\n",
      "*alpha: 0.6, epsilon: 0.01\n",
      "Среднее вознаграждение в 500 эпизодах: -27.598\n",
      "Средняя длина 500 эпизодов: 27.598\n",
      "*alpha: 0.7, epsilon: 0.1\n",
      "Среднее вознаграждение в 500 эпизодах: -33.678\n",
      "Средняя длина 500 эпизодов: 33.678\n",
      "*alpha: 0.7, epsilon: 0.05\n",
      "Среднее вознаграждение в 500 эпизодах: -28.568\n",
      "Средняя длина 500 эпизодов: 28.568\n",
      "*alpha: 0.7, epsilon: 0.01\n",
      "Среднее вознаграждение в 500 эпизодах: -23.424\n",
      "Средняя длина 500 эпизодов: 23.424\n",
      "*alpha: 0.8, epsilon: 0.1\n",
      "Среднее вознаграждение в 500 эпизодах: -33.712\n",
      "Средняя длина 500 эпизодов: 33.712\n",
      "*alpha: 0.8, epsilon: 0.05\n",
      "Среднее вознаграждение в 500 эпизодах: -28.352\n",
      "Средняя длина 500 эпизодов: 28.352\n",
      "*alpha: 0.8, epsilon: 0.01\n",
      "Среднее вознаграждение в 500 эпизодах: -25.238\n",
      "Средняя длина 500 эпизодов: 25.238\n",
      "*alpha: 0.9, epsilon: 0.1\n",
      "Среднее вознаграждение в 500 эпизодах: -35.202\n",
      "Средняя длина 500 эпизодов: 35.202\n",
      "*alpha: 0.9, epsilon: 0.05\n",
      "Среднее вознаграждение в 500 эпизодах: -30.612\n",
      "Средняя длина 500 эпизодов: 30.612\n",
      "*alpha: 0.9, epsilon: 0.01\n",
      "Среднее вознаграждение в 500 эпизодах: -26.664\n",
      "Средняя длина 500 эпизодов: 26.664\n",
      "\n",
      "Лучшие результаты: ([0.7, 0.01, -23.424, 23.424, -7.0, -268.0, [-7.0]], [0.8, 0.01, -25.238, 25.238, -7.0, -476.0, [-8.0]], [0.9, 0.01, -26.664, 26.664, -7.0, -269.0, [-10.0]])\n",
      "Худший результат: [0.9, 0.1, -35.202, 35.202, -7.0, -397.0, [-14.0]]\n"
     ]
    }
   ],
   "source": [
    "from collections import Counter\n",
    "\n",
    "# функция расчета моды с помощью метода Counter.most_common\n",
    "def my_mode(sample):\n",
    "    u = Counter(sample)\n",
    "    return [k for k, v in u.items() if v == u.most_common(1)[0][1]]\n",
    "\n",
    "# список значений для исследования\n",
    "alpha_options = [0.5,0.6,0.7,0.8,0.9]\n",
    "epsilon_options = [0.1, 0.05, 0.01]\n",
    "result_ = []\n",
    "\n",
    "def windgridSARSA (alfa=ALPHA, eps=EPSILON):\n",
    "    q_value = np.zeros((WORLD_HEIGHT, WORLD_WIDTH, len(ACTIONS)))\n",
    "    steps = []\n",
    "    ep = 0\n",
    "    #\n",
    "    while ep < episode_limit:\n",
    "        steps.append(episode9(q_value, ep, alfa, eps))\n",
    "        ep += 1\n",
    "    return steps\n",
    "\n",
    "for alpha in alpha_options:\n",
    "  for epsilon in epsilon_options:\n",
    "    len_episode = []  # * episode_limit\n",
    "    total_reward_episode = [0] * episode_limit\n",
    "\n",
    "    # вызов расчета итогов эпизода\n",
    "    len_episode = windgridSARSA(alpha, epsilon)\n",
    "\n",
    "    # расчет средних, макс., мин. характеристик\n",
    "    avg_rewrd =sum(total_reward_episode) / episode_limit\n",
    "    avg_steps = sum(len_episode) / episode_limit\n",
    "    max_rewrd = max(total_reward_episode)\n",
    "    min_rewrd = min(total_reward_episode)\n",
    "    mode_rewrd= my_mode(total_reward_episode)\n",
    "    result_.append([alpha, epsilon, avg_rewrd, avg_steps, max_rewrd, min_rewrd, mode_rewrd])\n",
    "\n",
    "    print('*',end='')\n",
    "    print(f'alpha: {alpha}, epsilon: {epsilon}')\n",
    "    print(f'Среднее вознаграждение в {episode_limit} эпизодах: {avg_rewrd}')\n",
    "    print(f'Средняя длина {episode_limit} эпизодов: {avg_steps}')\n",
    "\n",
    "# сортируем итоги по сред.вознаграждению по убыванию\n",
    "result_.sort(key=(lambda lst: lst[2]), reverse=True)\n",
    "print(f'\\nЛучшие результаты: {result_[0], result_[1], result_[2]}\\nХудший результат: {result_[-1]}')"
   ]
  },
  {
   "cell_type": "markdown",
   "metadata": {
    "id": "hp4LgDhPmt0q"
   },
   "source": [
    "Отсортируйте результаты по моде вознаграждения по убыванию.\n",
    "Для группы наиболее выгодных результатов определите тройку лучших по наибольшему среднему вознаграждению.\n",
    "По выбранной тройке определите лучшие параметры alpha и epsilon.\n",
    "Сделайте определение лучших параметров alpha и epsilon и для варианта с 4 действиями, рассмотренном в run_4_show(). Напишите выводы в отчете."
   ]
  },
  {
   "cell_type": "code",
   "execution_count": null,
   "metadata": {},
   "outputs": [],
   "source": []
  },
  {
   "cell_type": "code",
   "execution_count": null,
   "metadata": {},
   "outputs": [],
   "source": []
  },
  {
   "cell_type": "code",
   "execution_count": null,
   "metadata": {},
   "outputs": [],
   "source": []
  },
  {
   "cell_type": "code",
   "execution_count": null,
   "metadata": {},
   "outputs": [],
   "source": []
  }
 ],
 "metadata": {
  "colab": {
   "provenance": []
  },
  "kernelspec": {
   "display_name": "Python 3 (ipykernel)",
   "language": "python",
   "name": "python3"
  },
  "language_info": {
   "codemirror_mode": {
    "name": "ipython",
    "version": 3
   },
   "file_extension": ".py",
   "mimetype": "text/x-python",
   "name": "python",
   "nbconvert_exporter": "python",
   "pygments_lexer": "ipython3",
   "version": "3.12.6"
  }
 },
 "nbformat": 4,
 "nbformat_minor": 4
}
